{
 "cells": [
  {
   "cell_type": "code",
   "execution_count": null,
   "metadata": {},
   "outputs": [],
   "source": [
    "import os\n",
    "import numpy as np\n",
    "import pandas as pd\n",
    "import pickle\n",
    "import lmdb\n",
    "import matplotlib.pyplot as plt\n",
    "from tqdm import tqdm\n",
    "import torch\n",
    "from torch_geometric.data import Data"
   ]
  },
  {
   "cell_type": "code",
   "execution_count": null,
   "metadata": {},
   "outputs": [],
   "source": [
    "df=pd.read_json('zinc_ev.json')\n",
    "df.head()"
   ]
  },
  {
   "cell_type": "code",
   "execution_count": null,
   "metadata": {},
   "outputs": [],
   "source": [
    "df.shape"
   ]
  },
  {
   "cell_type": "code",
   "execution_count": null,
   "metadata": {},
   "outputs": [],
   "source": [
    "df_shuffled = df.sample(frac=1)\n",
    "n_train = 31601\n",
    "n_val = 3999"
   ]
  },
  {
   "cell_type": "code",
   "execution_count": null,
   "metadata": {},
   "outputs": [],
   "source": [
    "df_shuffled['E'][:n_train].mean()"
   ]
  },
  {
   "cell_type": "code",
   "execution_count": null,
   "metadata": {},
   "outputs": [],
   "source": [
    "df_shuffled['E'][:n_train].std()"
   ]
  },
  {
   "cell_type": "code",
   "execution_count": null,
   "metadata": {},
   "outputs": [],
   "source": [
    "db = lmdb.open('train.lmdb',\n",
    "    map_size=1099511627776 * 2,\n",
    "    subdir=False,\n",
    "    meminit=False,\n",
    "    map_async=True,\n",
    ")"
   ]
  },
  {
   "cell_type": "code",
   "execution_count": null,
   "metadata": {},
   "outputs": [],
   "source": [
    "i=0\n",
    "for index, entry in tqdm(df_shuffled[:n_train].iterrows(), total=len(df_shuffled[:n_train])):\n",
    "    \n",
    "    atomic_numbers = torch.tensor(entry.atomic_number)\n",
    "    pos = torch.tensor(entry.pos, dtype=torch.float32)\n",
    "    natoms = torch.tensor(entry.natoms)\n",
    "    fixed = torch.zeros(natoms, dtype=torch.float32)\n",
    "    sid = entry.ID\n",
    "    y = torch.tensor(entry.E)\n",
    "    \n",
    "    data = Data(\n",
    "            pos=pos,\n",
    "            atomic_numbers=atomic_numbers,\n",
    "            natoms=natoms,\n",
    "            sid=sid,\n",
    "            fixed=fixed,\n",
    "            y = y\n",
    "        )\n",
    "    \n",
    "    txn = db.begin(write=True)\n",
    "    txn.put(f\"{i}\".encode(\"ascii\"), pickle.dumps(data, protocol=-1))\n",
    "    txn.commit()\n",
    "    db.sync()\n",
    "    i+=1\n",
    "\n",
    "db.close()  "
   ]
  },
  {
   "cell_type": "code",
   "execution_count": null,
   "metadata": {},
   "outputs": [],
   "source": [
    "db = lmdb.open(\n",
    "    'val.lmdb',\n",
    "    map_size=1099511627776 * 2,\n",
    "    subdir=False,\n",
    "    meminit=False,\n",
    "    map_async=True,\n",
    ")\n",
    "\n",
    "\n",
    "i=0\n",
    "for index, entry in tqdm(df_shuffled[n_train:n_train+n_val].iterrows(), total=len(df_shuffled[n_train:n_train+n_val])):\n",
    "    \n",
    "    atomic_numbers = torch.tensor(entry.atomic_number)\n",
    "    pos = torch.tensor(entry.pos, dtype=torch.float32)\n",
    "    natoms = torch.tensor(entry.natoms)\n",
    "    fixed = torch.zeros(natoms, dtype=torch.float32)\n",
    "    sid = entry.ID\n",
    "    y = torch.tensor(entry.E)\n",
    "    \n",
    "    data = Data(\n",
    "            pos=pos,\n",
    "            atomic_numbers=atomic_numbers,\n",
    "            natoms=natoms,\n",
    "            sid=sid,\n",
    "            fixed=fixed,\n",
    "            y = y\n",
    "        )\n",
    "    \n",
    "    txn = db.begin(write=True)\n",
    "    txn.put(f\"{i}\".encode(\"ascii\"), pickle.dumps(data, protocol=-1))\n",
    "    txn.commit()\n",
    "    db.sync()\n",
    "    i+=1\n",
    "\n",
    "db.close()"
   ]
  },
  {
   "cell_type": "code",
   "execution_count": null,
   "metadata": {},
   "outputs": [],
   "source": [
    "db = lmdb.open(\n",
    "    'test.lmdb',\n",
    "    map_size=1099511627776 * 2,\n",
    "    subdir=False,\n",
    "    meminit=False,\n",
    "    map_async=True,\n",
    ")\n",
    "\n",
    "\n",
    "i=0\n",
    "for index, entry in tqdm(df_shuffled[n_train+n_val:].iterrows(), total=len(df_shuffled[n_train+n_val:])):\n",
    "    \n",
    "    atomic_numbers = torch.tensor(entry.atomic_number)\n",
    "    pos = torch.tensor(entry.pos, dtype=torch.float32)\n",
    "    natoms = torch.tensor(entry.natoms)\n",
    "    fixed = torch.zeros(natoms, dtype=torch.float32)\n",
    "    sid = entry.ID\n",
    "    y = torch.tensor(entry.E)\n",
    "    \n",
    "    data = Data(\n",
    "            pos=pos,\n",
    "            atomic_numbers=atomic_numbers,\n",
    "            natoms=natoms,\n",
    "            sid=sid,\n",
    "            fixed=fixed,\n",
    "            y = y\n",
    "        )\n",
    "    \n",
    "    txn = db.begin(write=True)\n",
    "    txn.put(f\"{i}\".encode(\"ascii\"), pickle.dumps(data, protocol=-1))\n",
    "    txn.commit()\n",
    "    db.sync()\n",
    "    i+=1\n",
    "\n",
    "db.close()"
   ]
  },
  {
   "cell_type": "code",
   "execution_count": null,
   "metadata": {},
   "outputs": [],
   "source": []
  }
 ],
 "metadata": {
  "kernelspec": {
   "display_name": "pyg",
   "language": "python",
   "name": "python3"
  },
  "language_info": {
   "codemirror_mode": {
    "name": "ipython",
    "version": 3
   },
   "file_extension": ".py",
   "mimetype": "text/x-python",
   "name": "python",
   "nbconvert_exporter": "python",
   "pygments_lexer": "ipython3",
   "version": "3.11.5"
  }
 },
 "nbformat": 4,
 "nbformat_minor": 2
}
