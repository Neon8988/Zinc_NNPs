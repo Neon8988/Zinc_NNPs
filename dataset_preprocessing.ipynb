{
 "cells": [
  {
   "cell_type": "code",
   "execution_count": 1,
   "metadata": {},
   "outputs": [],
   "source": [
    "import os\n",
    "import numpy as np\n",
    "import pandas as pd\n",
    "import pickle\n",
    "import lmdb\n",
    "import matplotlib.pyplot as plt\n",
    "from tqdm import tqdm\n",
    "import torch\n",
    "from torch_geometric.data import Data"
   ]
  },
  {
   "cell_type": "code",
   "execution_count": 2,
   "metadata": {},
   "outputs": [
    {
     "data": {
      "text/html": [
       "<div>\n",
       "<style scoped>\n",
       "    .dataframe tbody tr th:only-of-type {\n",
       "        vertical-align: middle;\n",
       "    }\n",
       "\n",
       "    .dataframe tbody tr th {\n",
       "        vertical-align: top;\n",
       "    }\n",
       "\n",
       "    .dataframe thead th {\n",
       "        text-align: right;\n",
       "    }\n",
       "</style>\n",
       "<table border=\"1\" class=\"dataframe\">\n",
       "  <thead>\n",
       "    <tr style=\"text-align: right;\">\n",
       "      <th></th>\n",
       "      <th>atomic_number</th>\n",
       "      <th>ID</th>\n",
       "      <th>pos</th>\n",
       "      <th>force</th>\n",
       "      <th>natoms</th>\n",
       "      <th>E</th>\n",
       "    </tr>\n",
       "  </thead>\n",
       "  <tbody>\n",
       "    <tr>\n",
       "      <th>0</th>\n",
       "      <td>[30, 7, 7, 7, 7, 7, 7, 7, 7, 7, 7, 6, 1, 6, 1,...</td>\n",
       "      <td>5338_con_7</td>\n",
       "      <td>[[-2.0293085785, -0.06465452890000001, 0.26844...</td>\n",
       "      <td>[[-0.0068917709, 0.000859557, 0.0125995095], [...</td>\n",
       "      <td>45</td>\n",
       "      <td>-286.736237</td>\n",
       "    </tr>\n",
       "    <tr>\n",
       "      <th>1</th>\n",
       "      <td>[30, 7, 7, 7, 7, 7, 7, 7, 7, 7, 7, 6, 1, 6, 1,...</td>\n",
       "      <td>5338_con_3</td>\n",
       "      <td>[[-2.0085821602, 0.0827816171, 0.2863010338], ...</td>\n",
       "      <td>[[-0.0061126062000000005, -0.0038732978, 0.012...</td>\n",
       "      <td>45</td>\n",
       "      <td>-286.769440</td>\n",
       "    </tr>\n",
       "    <tr>\n",
       "      <th>2</th>\n",
       "      <td>[30, 7, 7, 7, 7, 7, 7, 7, 7, 7, 7, 6, 1, 6, 1,...</td>\n",
       "      <td>5338_con_2</td>\n",
       "      <td>[[-1.9969567119, -0.29290715030000003, 0.22799...</td>\n",
       "      <td>[[-0.005940026, -0.0030673873, 0.0121709923], ...</td>\n",
       "      <td>45</td>\n",
       "      <td>-286.769440</td>\n",
       "    </tr>\n",
       "    <tr>\n",
       "      <th>3</th>\n",
       "      <td>[30, 7, 7, 7, 7, 7, 7, 7, 7, 7, 7, 6, 1, 6, 1,...</td>\n",
       "      <td>5338_con_18</td>\n",
       "      <td>[[-1.9803014145, -0.24409732120000002, 0.29334...</td>\n",
       "      <td>[[-0.0137301872, -0.0010087369, -0.0020015222]...</td>\n",
       "      <td>45</td>\n",
       "      <td>-286.716309</td>\n",
       "    </tr>\n",
       "    <tr>\n",
       "      <th>4</th>\n",
       "      <td>[30, 7, 7, 7, 7, 7, 7, 7, 7, 7, 7, 6, 1, 6, 1,...</td>\n",
       "      <td>5338_con_10</td>\n",
       "      <td>[[-2.0240986138, 0.0766847985, 0.2796353446], ...</td>\n",
       "      <td>[[-0.0064623808000000005, -0.0038127322, 0.011...</td>\n",
       "      <td>45</td>\n",
       "      <td>-286.742889</td>\n",
       "    </tr>\n",
       "  </tbody>\n",
       "</table>\n",
       "</div>"
      ],
      "text/plain": [
       "                                       atomic_number           ID  \\\n",
       "0  [30, 7, 7, 7, 7, 7, 7, 7, 7, 7, 7, 6, 1, 6, 1,...   5338_con_7   \n",
       "1  [30, 7, 7, 7, 7, 7, 7, 7, 7, 7, 7, 6, 1, 6, 1,...   5338_con_3   \n",
       "2  [30, 7, 7, 7, 7, 7, 7, 7, 7, 7, 7, 6, 1, 6, 1,...   5338_con_2   \n",
       "3  [30, 7, 7, 7, 7, 7, 7, 7, 7, 7, 7, 6, 1, 6, 1,...  5338_con_18   \n",
       "4  [30, 7, 7, 7, 7, 7, 7, 7, 7, 7, 7, 6, 1, 6, 1,...  5338_con_10   \n",
       "\n",
       "                                                 pos  \\\n",
       "0  [[-2.0293085785, -0.06465452890000001, 0.26844...   \n",
       "1  [[-2.0085821602, 0.0827816171, 0.2863010338], ...   \n",
       "2  [[-1.9969567119, -0.29290715030000003, 0.22799...   \n",
       "3  [[-1.9803014145, -0.24409732120000002, 0.29334...   \n",
       "4  [[-2.0240986138, 0.0766847985, 0.2796353446], ...   \n",
       "\n",
       "                                               force  natoms           E  \n",
       "0  [[-0.0068917709, 0.000859557, 0.0125995095], [...      45 -286.736237  \n",
       "1  [[-0.0061126062000000005, -0.0038732978, 0.012...      45 -286.769440  \n",
       "2  [[-0.005940026, -0.0030673873, 0.0121709923], ...      45 -286.769440  \n",
       "3  [[-0.0137301872, -0.0010087369, -0.0020015222]...      45 -286.716309  \n",
       "4  [[-0.0064623808000000005, -0.0038127322, 0.011...      45 -286.742889  "
      ]
     },
     "execution_count": 2,
     "metadata": {},
     "output_type": "execute_result"
    }
   ],
   "source": [
    "df=pd.read_json('zinc_ev.json')\n",
    "df.head()"
   ]
  },
  {
   "cell_type": "code",
   "execution_count": 3,
   "metadata": {},
   "outputs": [],
   "source": [
    "df_shuffled = df.sample(frac=1, random_state=42)\n",
    "n_train = 31611\n",
    "n_val = 4000"
   ]
  },
  {
   "cell_type": "code",
   "execution_count": 4,
   "metadata": {},
   "outputs": [
    {
     "data": {
      "text/plain": [
       "-301.2988981640536"
      ]
     },
     "execution_count": 4,
     "metadata": {},
     "output_type": "execute_result"
    }
   ],
   "source": [
    "df_shuffled['E'][:n_train].mean()"
   ]
  },
  {
   "cell_type": "code",
   "execution_count": 5,
   "metadata": {},
   "outputs": [
    {
     "data": {
      "text/plain": [
       "53.383123813548536"
      ]
     },
     "execution_count": 5,
     "metadata": {},
     "output_type": "execute_result"
    }
   ],
   "source": [
    "df_shuffled['E'][:n_train].std()"
   ]
  },
  {
   "cell_type": "code",
   "execution_count": 6,
   "metadata": {},
   "outputs": [],
   "source": [
    "db = lmdb.open('train.lmdb',\n",
    "    map_size=1099511627776 * 2,\n",
    "    subdir=False,\n",
    "    meminit=False,\n",
    "    map_async=True,\n",
    ")"
   ]
  },
  {
   "cell_type": "code",
   "execution_count": 7,
   "metadata": {},
   "outputs": [
    {
     "name": "stderr",
     "output_type": "stream",
     "text": [
      "100%|██████████| 31611/31611 [01:20<00:00, 392.71it/s]\n"
     ]
    }
   ],
   "source": [
    "i=0\n",
    "for index, entry in tqdm(df_shuffled[:n_train].iterrows(), total=len(df_shuffled[:n_train])):\n",
    "    \n",
    "    atomic_numbers = torch.tensor(entry.atomic_number)\n",
    "    pos = torch.tensor(entry.pos, dtype=torch.float32)\n",
    "    natoms = torch.tensor(entry.natoms)\n",
    "    fixed = torch.zeros(natoms, dtype=torch.float32)\n",
    "    sid = entry.ID\n",
    "    y = torch.tensor(entry.E)\n",
    "    \n",
    "    data = Data(\n",
    "            pos=pos,\n",
    "            atomic_numbers=atomic_numbers,\n",
    "            natoms=natoms,\n",
    "            sid=sid,\n",
    "            fixed=fixed,\n",
    "            y = y\n",
    "        )\n",
    "    \n",
    "    txn = db.begin(write=True)\n",
    "    txn.put(f\"{i}\".encode(\"ascii\"), pickle.dumps(data, protocol=-1))\n",
    "    txn.commit()\n",
    "    db.sync()\n",
    "    i+=1\n",
    "\n",
    "db.close()  "
   ]
  },
  {
   "cell_type": "code",
   "execution_count": 8,
   "metadata": {},
   "outputs": [
    {
     "name": "stderr",
     "output_type": "stream",
     "text": [
      "100%|██████████| 4000/4000 [00:09<00:00, 415.31it/s]\n"
     ]
    }
   ],
   "source": [
    "db = lmdb.open(\n",
    "    'val.lmdb',\n",
    "    map_size=1099511627776 * 2,\n",
    "    subdir=False,\n",
    "    meminit=False,\n",
    "    map_async=True,\n",
    ")\n",
    "\n",
    "\n",
    "i=0\n",
    "for index, entry in tqdm(df_shuffled[n_train:n_train+n_val].iterrows(), total=len(df_shuffled[n_train:n_train+n_val])):\n",
    "    \n",
    "    atomic_numbers = torch.tensor(entry.atomic_number)\n",
    "    pos = torch.tensor(entry.pos, dtype=torch.float32)\n",
    "    natoms = torch.tensor(entry.natoms)\n",
    "    fixed = torch.zeros(natoms, dtype=torch.float32)\n",
    "    sid = entry.ID\n",
    "    y = torch.tensor(entry.E)\n",
    "    \n",
    "    data = Data(\n",
    "            pos=pos,\n",
    "            atomic_numbers=atomic_numbers,\n",
    "            natoms=natoms,\n",
    "            sid=sid,\n",
    "            fixed=fixed,\n",
    "            y = y\n",
    "        )\n",
    "    \n",
    "    txn = db.begin(write=True)\n",
    "    txn.put(f\"{i}\".encode(\"ascii\"), pickle.dumps(data, protocol=-1))\n",
    "    txn.commit()\n",
    "    db.sync()\n",
    "    i+=1\n",
    "\n",
    "db.close()"
   ]
  },
  {
   "cell_type": "code",
   "execution_count": 9,
   "metadata": {},
   "outputs": [
    {
     "name": "stderr",
     "output_type": "stream",
     "text": [
      "100%|██████████| 4000/4000 [00:09<00:00, 405.19it/s]\n"
     ]
    }
   ],
   "source": [
    "db = lmdb.open(\n",
    "    'test.lmdb',\n",
    "    map_size=1099511627776 * 2,\n",
    "    subdir=False,\n",
    "    meminit=False,\n",
    "    map_async=True,\n",
    ")\n",
    "\n",
    "\n",
    "i=0\n",
    "for index, entry in tqdm(df_shuffled[n_train+n_val:].iterrows(), total=len(df_shuffled[n_train+n_val:])):\n",
    "    \n",
    "    atomic_numbers = torch.tensor(entry.atomic_number)\n",
    "    pos = torch.tensor(entry.pos, dtype=torch.float32)\n",
    "    natoms = torch.tensor(entry.natoms)\n",
    "    fixed = torch.zeros(natoms, dtype=torch.float32)\n",
    "    sid = entry.ID\n",
    "    y = torch.tensor(entry.E)\n",
    "    \n",
    "    data = Data(\n",
    "            pos=pos,\n",
    "            atomic_numbers=atomic_numbers,\n",
    "            natoms=natoms,\n",
    "            sid=sid,\n",
    "            fixed=fixed,\n",
    "            y = y\n",
    "        )\n",
    "    \n",
    "    txn = db.begin(write=True)\n",
    "    txn.put(f\"{i}\".encode(\"ascii\"), pickle.dumps(data, protocol=-1))\n",
    "    txn.commit()\n",
    "    db.sync()\n",
    "    i+=1\n",
    "\n",
    "db.close()"
   ]
  },
  {
   "cell_type": "code",
   "execution_count": null,
   "metadata": {},
   "outputs": [],
   "source": []
  }
 ],
 "metadata": {
  "kernelspec": {
   "display_name": "pyg",
   "language": "python",
   "name": "python3"
  },
  "language_info": {
   "codemirror_mode": {
    "name": "ipython",
    "version": 3
   },
   "file_extension": ".py",
   "mimetype": "text/x-python",
   "name": "python",
   "nbconvert_exporter": "python",
   "pygments_lexer": "ipython3",
   "version": "3.11.5"
  }
 },
 "nbformat": 4,
 "nbformat_minor": 2
}
