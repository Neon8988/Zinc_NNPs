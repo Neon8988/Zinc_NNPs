{
 "cells": [
  {
   "cell_type": "code",
   "execution_count": null,
   "metadata": {},
   "outputs": [],
   "source": [
    "import torch\n",
    "import torch_geometric\n",
    "import logging\n",
    "from pathlib import Path\n",
    "from tqdm import tqdm\n",
    "import os\n",
    "from ocpmodels import models\n",
    "from ocpmodels.common import logger\n",
    "from ocpmodels.common.utils import setup_logging, load_config\n",
    "from ocpmodels.datasets import LmdbDataset\n",
    "from ocpmodels.common.registry import registry\n",
    "from ocpmodels.trainers import EnergyTrainer\n",
    "\n",
    "\n",
    "setup_logging()\n",
    "\n",
    "%load_ext autoreload\n",
    "%autoreload 2"
   ]
  },
  {
   "cell_type": "code",
   "execution_count": null,
   "metadata": {},
   "outputs": [],
   "source": [
    "torch.cuda.empty_cache()\n",
    "os.environ[\"CUDA_LAUNCH_BLOCKING\"] = \"1\"\n",
    "#conf=load_config(config_path)[0]\n",
    "task={'dataset': 'single_point_lmdb',\n",
    " 'description': 'Regressing to energies for DFT Iron structures',\n",
    " 'type': 'regression',\n",
    " 'metric': 'mae',\n",
    " 'labels': ['potential energy'],\n",
    " }\n",
    "\n",
    "model={'name': 'SchNet_EwaldMP_Q',\n",
    " 'hidden_channels': 16,\n",
    " 'num_filters': 16,\n",
    " 'num_interactions': 5,\n",
    " 'num_gaussians': 20,\n",
    " 'cutoff': 6.0,\n",
    " 'max_neighbors': 50,\n",
    " 'use_pbc': False,\n",
    " 'otf_graph': True,\n",
    " 'regress_forces': False,\n",
    " 'readout': 'add',\n",
    " 'seperated': True,\n",
    " 'residual': True,\n",
    "  'ewald_hyperparams': {'k_cutoff': 0.4,'delta_k':0.2,'num_k_rbf':4,'downprojection_size':8,'num_hidden':2}}\n",
    "\n",
    "optimizer={'batch_size': 64,\n",
    " 'eval_batch_size': 32,\n",
    " 'num_workers': 4,\n",
    " 'lr_initial': 0.0005,\n",
    " 'lr_gamma': 0.1,\n",
    " 'lr_milestones': [6000, 8000, 10000],\n",
    " 'warmup_steps': 30000,\n",
    " 'warmup_factor': 0.2,\n",
    " 'max_epochs': 250,}\n",
    "\n",
    "name='schnet_zinc'\n",
    "\n",
    "logger='tensorboard'\n",
    "\n",
    "dataset=[{'src': 'data/zinc_train_31601.lmdb',\n",
    "  'normalize_labels': True,\n",
    "  'target_mean': -301.29443133928714,\n",
    "  'target_std': 53.390944688380564} ,\n",
    " {'src': 'data/zinc_val_3999.lmdb'},\n",
    " {'src': 'data/zinc_test_3999.lmdb'}]\n",
    "\n",
    "\n",
    "trainer=EnergyTrainer(task=task,\n",
    "                      model=model,\n",
    "                      dataset=dataset,\n",
    "                      optimizer=optimizer,\n",
    "                      identifier=name,\n",
    "                      run_dir='runs',\n",
    "                      is_debug=False,\n",
    "                      print_every=1000,\n",
    "                      seed=42,\n",
    "                      logger=logger,\n",
    "                      local_rank=0,\n",
    "                      amp=False)"
   ]
  },
  {
   "cell_type": "code",
   "execution_count": null,
   "metadata": {},
   "outputs": [],
   "source": [
    "model_path='The path of the trained model'\n",
    "trainer.load_checkpoint(model_path)"
   ]
  },
  {
   "cell_type": "code",
   "execution_count": null,
   "metadata": {},
   "outputs": [],
   "source": [
    "metrics = trainer.validate(split=\"test\")\n",
    "results = {key: val[\"metric\"] for key, val in metrics.items()}\n",
    "print(f\"Results for configuration {name}: {results}\")"
   ]
  },
  {
   "cell_type": "code",
   "execution_count": null,
   "metadata": {},
   "outputs": [],
   "source": []
  }
 ],
 "metadata": {
  "kernelspec": {
   "display_name": "pyg",
   "language": "python",
   "name": "python3"
  },
  "language_info": {
   "codemirror_mode": {
    "name": "ipython",
    "version": 3
   },
   "file_extension": ".py",
   "mimetype": "text/x-python",
   "name": "python",
   "nbconvert_exporter": "python",
   "pygments_lexer": "ipython3",
   "version": "3.11.5"
  }
 },
 "nbformat": 4,
 "nbformat_minor": 2
}
